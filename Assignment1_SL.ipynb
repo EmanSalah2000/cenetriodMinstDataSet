{
  "nbformat": 4,
  "nbformat_minor": 0,
  "metadata": {
    "accelerator": "GPU",
    "colab": {
      "name": "Assignment1_SL",
      "provenance": [],
      "authorship_tag": "ABX9TyMvuRG3+JJr5QnjWnWwyI9i",
      "include_colab_link": true
    },
    "kernelspec": {
      "display_name": "Python 3",
      "name": "python3"
    },
    "language_info": {
      "name": "python"
    }
  },
  "cells": [
    {
      "cell_type": "markdown",
      "metadata": {
        "id": "view-in-github",
        "colab_type": "text"
      },
      "source": [
        "<a href=\"https://colab.research.google.com/github/EmanSalah2000/cenetriodMinstDataSet/blob/main/Assignment1_SL.ipynb\" target=\"_parent\"><img src=\"https://colab.research.google.com/assets/colab-badge.svg\" alt=\"Open In Colab\"/></a>"
      ]
    },
    {
      "cell_type": "code",
      "metadata": {
        "colab": {
          "base_uri": "https://localhost:8080/"
        },
        "id": "QXBkNUNU2Yp6",
        "outputId": "f408ef6b-6e90-452a-ea91-24078a83049f"
      },
      "source": [
        "\n",
        "import tensorflow as tf\n",
        "import matplotlib.pyplot as plt\n",
        "import numpy as np\n",
        "from sklearn.neighbors import KNeighborsClassifier\n",
        "from sklearn.metrics import accuracy_score\n",
        "from sklearn.multiclass import OneVsRestClassifier\n",
        "import math\n",
        "\n",
        "(x_train, y_train), (x_test, y_test) = tf.keras.datasets.mnist.load_data()\n"
      ],
      "execution_count": null,
      "outputs": [
        {
          "output_type": "stream",
          "text": [
            "Downloading data from https://storage.googleapis.com/tensorflow/tf-keras-datasets/mnist.npz\n",
            "\r    8192/11490434 [..............................] - ETA: 0s"
          ],
          "name": "stdout"
        }
      ]
    },
    {
      "cell_type": "code",
      "metadata": {
        "id": "ETBH-vJC3C5h"
      },
      "source": [
        "image_index = 3000 # You may select anything up to 60,000\n",
        "print(y_train[image_index]) # The label is 9\n",
        "plt.imshow(x_train[image_index], cmap='Greys')"
      ],
      "execution_count": null,
      "outputs": []
    },
    {
      "cell_type": "code",
      "metadata": {
        "id": "yUFDmvV43oIX"
      },
      "source": [
        "def cenetroizd(image , grid):\n",
        "    row, col = image.shape # row*colum\n",
        "    blocks=[[0 for i in range(grid)] for j in range(grid)]\n",
        "\n",
        "    row2, col2 = math.ceil(row/grid), math.ceil(col/grid)\n",
        "\n",
        "    row_copy , colum_copy=0 ,0\n",
        "   \n",
        "    \n",
        "    sum_row_colum=0\n",
        "    for i in range(grid-1):\n",
        "        colum_copy=0\n",
        "        sum_row_colum=sum_row_colum+row2\n",
        "        for j in range(grid-1):\n",
        "            blocks[i][j]=[[0 for ee in range(row2)] for rr in range(col2)]\n",
        "            blocks[i][j]=image[row_copy:row2+row_copy , colum_copy:col2+colum_copy ]\n",
        "            colum_copy=colum_copy+col2\n",
        "        row_copy=row_copy+row2\n",
        "\n",
        "    if (28-sum_row_colum==0):\n",
        "       sum_row_colum=row2\n",
        "    else:\n",
        "      sum_row_colum=28-sum_row_colum\n",
        "    \n",
        "    row_copy=0\n",
        "    for i in range(grid-1):\n",
        "         blocks[i][grid-1]=[[0 for ee in range(row2)] for rr in range(sum_row_colum)]\n",
        "         blocks[i][grid-1]=image[row_copy:row2+row_copy , colum_copy:   ]\n",
        "         row_copy=row_copy+row2\n",
        "         \n",
        "    colum_copy=0\n",
        "    for j in range(grid-1):\n",
        "         blocks[grid-1][j]=[[0 for ee in range(sum_row_colum)] for rr in range(col2)]\n",
        "         blocks[grid-1][j]=image[row_copy:  , colum_copy:col2+colum_copy ]\n",
        "         colum_copy=colum_copy+col2\n",
        "\n",
        "\n",
        "    blocks[grid-1][grid-1]=[[0 for ee in range(sum_row_colum)] for rr in range(sum_row_colum)]\n",
        "\n",
        "    blocks[grid-1][grid-1]=image[row_copy:  , colum_copy: ]\n",
        "\n",
        "\n",
        "\n",
        "\n",
        "    feature_vector=np.zeros((1,(2*grid*grid)))\n",
        "    count=0\n",
        "    SumX , SumY , num =0,0,0\n",
        " \n",
        "    \n",
        "    for a in range(grid):\n",
        "        for b in range(grid):\n",
        "          copyarray=blocks[a][b]\n",
        "          #print(copyarray.shape)\n",
        "          for i in range(copyarray.shape[0]):\n",
        "              for j in range(copyarray.shape[1]):\n",
        "                 SumX=SumX+copyarray[i][j]*i\n",
        "                 SumY=SumY+copyarray[i][j]*j\n",
        "                 num=num+copyarray[i][j]\n",
        "              \n",
        "          if num!=0 :\n",
        "             total_xc =SumX / num\n",
        "             total_yc  = SumY / num\n",
        "            \n",
        "             feature_vector[0][count]=total_xc\n",
        "             feature_vector[0][count+1]=total_yc \n",
        "             count=count+2\n",
        "          else :\n",
        "               total_xc =0\n",
        "               total_yc  = 0\n",
        "               feature_vector[0][count]=total_xc\n",
        "               feature_vector[0][count+1]=total_yc \n",
        "               count=count+2\n",
        "  \n",
        "    return feature_vector"
      ],
      "execution_count": null,
      "outputs": []
    },
    {
      "cell_type": "code",
      "metadata": {
        "colab": {
          "background_save": true
        },
        "id": "T4pkAEgR4UDT",
        "outputId": "57d00c99-31f4-4016-bf44-bebcc4436657"
      },
      "source": [
        "grid=4\n",
        "counter=0\n",
        "X_NEWTRAIN=np.zeros([ len(x_train),2*grid*grid])\n",
        "for i in range(len(x_train)):\n",
        "      array=np.array(x_train[i])\n",
        "      X_NEWTRAIN[i]=cenetroizd(array,grid)    \n",
        "print(X_NEWTRAIN)\n",
        "print(X_NEWTRAIN.shape)"
      ],
      "execution_count": null,
      "outputs": [
        {
          "output_type": "stream",
          "text": [
            "[[0.         0.         5.97229551 ... 3.04715713 2.7884832  3.04715713]\n",
            " [0.         0.         6.         ... 2.75484805 2.79835986 2.75484805]\n",
            " [6.         4.56643357 6.         ... 3.76125084 2.44411871 3.76125084]\n",
            " ...\n",
            " [0.         0.         0.         ... 3.03189951 2.83666185 3.03189951]\n",
            " [0.         0.         0.         ... 2.681075   2.85632465 2.681075  ]\n",
            " [0.         0.         0.         ... 3.06142447 2.52213193 3.06142447]]\n",
            "(60000, 32)\n"
          ],
          "name": "stdout"
        }
      ]
    },
    {
      "cell_type": "code",
      "metadata": {
        "colab": {
          "background_save": true
        },
        "id": "tBMTWNeu_BVK",
        "outputId": "f55b936d-2925-4f4e-f077-49d38ddfd4d0"
      },
      "source": [
        "print(X_NEWTRAIN[0])\n",
        "print(X_NEWTRAIN[0].shape)"
      ],
      "execution_count": null,
      "outputs": [
        {
          "output_type": "stream",
          "text": [
            "[0.         0.         5.97229551 4.6055409  5.77763371 3.49789303\n",
            " 5.68801898 2.75563464 5.68801898 2.75563464 3.48625209 3.5437075\n",
            " 3.06227022 3.14568015 3.04014904 3.12592198 3.04014904 3.12592198\n",
            " 3.17782054 3.26626755 3.20130582 3.04722871 3.20130582 3.04722871\n",
            " 3.16903512 3.15944062 2.84975095 3.10378411 2.7884832  3.04715713\n",
            " 2.7884832  3.04715713]\n",
            "(32,)\n"
          ],
          "name": "stdout"
        }
      ]
    },
    {
      "cell_type": "code",
      "metadata": {
        "colab": {
          "background_save": true
        },
        "id": "CkFT4VyHU8MQ",
        "outputId": "2cdd4911-34ff-453a-dbb5-cada25b09900"
      },
      "source": [
        "X_NEWTEST=np.zeros([ len(x_test),2*grid*grid])\n",
        "for i in range(len(x_test)):\n",
        "    array=np.array(x_test[i])\n",
        "    X_NEWTEST[i]=cenetroizd(array,grid)   \n",
        "print(X_NEWTEST)\n",
        "print(X_NEWTEST.shape)"
      ],
      "execution_count": null,
      "outputs": [
        {
          "output_type": "stream",
          "text": [
            "[[0.         0.         0.         ... 3.32459087 2.50335971 3.32459087]\n",
            " [0.         0.         4.56700508 ... 2.8295813  3.16870017 2.79455806]\n",
            " [0.         0.         0.         ... 2.99726471 2.98470266 2.99726471]\n",
            " ...\n",
            " [0.         0.         6.         ... 3.53857206 2.72450481 3.53857206]\n",
            " [0.         0.         0.         ... 2.75650439 2.97281524 2.75650439]\n",
            " [0.         0.         5.71879699 ... 2.94776851 3.20266297 2.94776851]]\n",
            "(10000, 32)\n"
          ],
          "name": "stdout"
        }
      ]
    },
    {
      "cell_type": "code",
      "metadata": {
        "colab": {
          "background_save": true
        },
        "id": "B9OwL2wnVWsy",
        "outputId": "fe4c4d65-e9bf-485f-c632-a2b45ac3dffb"
      },
      "source": [
        "KNN=OneVsRestClassifier(KNeighborsClassifier())\n",
        "KNN.fit(X_NEWTRAIN,y_train)"
      ],
      "execution_count": null,
      "outputs": [
        {
          "output_type": "execute_result",
          "data": {
            "text/plain": [
              "OneVsRestClassifier(estimator=KNeighborsClassifier(algorithm='auto',\n",
              "                                                   leaf_size=30,\n",
              "                                                   metric='minkowski',\n",
              "                                                   metric_params=None,\n",
              "                                                   n_jobs=None, n_neighbors=5,\n",
              "                                                   p=2, weights='uniform'),\n",
              "                    n_jobs=None)"
            ]
          },
          "metadata": {
            "tags": []
          },
          "execution_count": 0
        }
      ]
    },
    {
      "cell_type": "code",
      "metadata": {
        "colab": {
          "background_save": true
        },
        "id": "uuoUQ587WSFZ"
      },
      "source": [
        "Y_predicted=KNN.predict(X_NEWTEST)\n",
        "acc=accuracy_score(y_test, Y_predicted)"
      ],
      "execution_count": null,
      "outputs": []
    },
    {
      "cell_type": "code",
      "metadata": {
        "colab": {
          "background_save": true
        },
        "id": "m6gL9dDPWy-E",
        "outputId": "53b2a337-cf62-442c-b7d7-35c83c3e4ba9"
      },
      "source": [
        "print(acc)\n",
        "# acc in grid=2    0.8418\n",
        "# acc in grid=3   0.8518 \n",
        "# acc in grid=4   0.8528\n",
        "# acc in grid=5   0.8195\n",
        "# acc in grid=7  0.759\n",
        "\n"
      ],
      "execution_count": null,
      "outputs": [
        {
          "output_type": "stream",
          "text": [
            "0.8528\n"
          ],
          "name": "stdout"
        }
      ]
    },
    {
      "cell_type": "code",
      "metadata": {
        "colab": {
          "background_save": true
        },
        "id": "i2x_Ezx3kNYv"
      },
      "source": [
        ""
      ],
      "execution_count": null,
      "outputs": []
    }
  ]
}